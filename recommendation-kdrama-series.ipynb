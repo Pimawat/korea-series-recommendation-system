{
 "cells": [
  {
   "cell_type": "code",
   "execution_count": 119,
   "metadata": {},
   "outputs": [],
   "source": [
    "import pandas as pd\n",
    "import numpy as np\n",
    "from collections import Counter\n",
    "from googletrans import Translator, constants\n",
    "import matplotlib.pyplot as plt\n",
    "import seaborn as sns\n",
    "import numpy as np\n",
    "from plotnine import ggplot, aes, geom_count ,geom_violin ,geom_tile,scale_fill_gradient2\n",
    "from sklearn.feature_extraction.text import CountVectorizer\n",
    "from sklearn.metrics.pairwise import cosine_similarity\n",
    "from sklearn.feature_extraction.text import TfidfVectorizer\n",
    "import difflib"
   ]
  },
  {
   "cell_type": "markdown",
   "metadata": {},
   "source": [
    "# Import data"
   ]
  },
  {
   "cell_type": "code",
   "execution_count": 120,
   "metadata": {},
   "outputs": [],
   "source": [
    "kdrama_df = pd.read_csv('kdrama.csv')"
   ]
  },
  {
   "cell_type": "code",
   "execution_count": 121,
   "metadata": {},
   "outputs": [
    {
     "data": {
      "text/html": [
       "<div>\n",
       "<style scoped>\n",
       "    .dataframe tbody tr th:only-of-type {\n",
       "        vertical-align: middle;\n",
       "    }\n",
       "\n",
       "    .dataframe tbody tr th {\n",
       "        vertical-align: top;\n",
       "    }\n",
       "\n",
       "    .dataframe thead th {\n",
       "        text-align: right;\n",
       "    }\n",
       "</style>\n",
       "<table border=\"1\" class=\"dataframe\">\n",
       "  <thead>\n",
       "    <tr style=\"text-align: right;\">\n",
       "      <th></th>\n",
       "      <th>Name</th>\n",
       "      <th>Aired Date</th>\n",
       "      <th>Year of release</th>\n",
       "      <th>Original Network</th>\n",
       "      <th>Aired On</th>\n",
       "      <th>Number of Episodes</th>\n",
       "      <th>Duration</th>\n",
       "      <th>Content Rating</th>\n",
       "      <th>Rating</th>\n",
       "      <th>Synopsis</th>\n",
       "      <th>Genre</th>\n",
       "      <th>Tags</th>\n",
       "      <th>Director</th>\n",
       "      <th>Screenwriter</th>\n",
       "      <th>Cast</th>\n",
       "      <th>Production companies</th>\n",
       "      <th>Rank</th>\n",
       "    </tr>\n",
       "  </thead>\n",
       "  <tbody>\n",
       "    <tr>\n",
       "      <th>0</th>\n",
       "      <td>Move to Heaven</td>\n",
       "      <td>May 14, 2021</td>\n",
       "      <td>2021</td>\n",
       "      <td>Netflix</td>\n",
       "      <td>Friday</td>\n",
       "      <td>10</td>\n",
       "      <td>52 min.</td>\n",
       "      <td>18+ Restricted (violence &amp; profanity)</td>\n",
       "      <td>9.2</td>\n",
       "      <td>Geu Roo is a young autistic man. He works for ...</td>\n",
       "      <td>Life,  Drama,  Family</td>\n",
       "      <td>Autism, Uncle-Nephew Relationship, Death, Sava...</td>\n",
       "      <td>Kim Sung Ho</td>\n",
       "      <td>Yoon Ji Ryun</td>\n",
       "      <td>Lee Je Hoon, Tang Jun Sang, Hong Seung Hee, Ju...</td>\n",
       "      <td>Page One Film, Number Three Pictures</td>\n",
       "      <td>#1</td>\n",
       "    </tr>\n",
       "    <tr>\n",
       "      <th>1</th>\n",
       "      <td>Flower of Evil</td>\n",
       "      <td>Jul 29, 2020 - Sep 23, 2020</td>\n",
       "      <td>2020</td>\n",
       "      <td>tvN</td>\n",
       "      <td>Wednesday, Thursday</td>\n",
       "      <td>16</td>\n",
       "      <td>1 hr. 10 min.</td>\n",
       "      <td>15+ - Teens 15 or older</td>\n",
       "      <td>9.1</td>\n",
       "      <td>Although Baek Hee Sung is hiding a dark secret...</td>\n",
       "      <td>Thriller,  Romance,  Crime,  Melodrama</td>\n",
       "      <td>Married Couple, Deception, Suspense, Family Se...</td>\n",
       "      <td>Kim Chul Gyu, Yoon Jong Ho</td>\n",
       "      <td>Yoo Jung Hee</td>\n",
       "      <td>Lee Joon Gi, Moon Chae Won, Jang Hee Jin, Seo ...</td>\n",
       "      <td>Monster Union</td>\n",
       "      <td>#2</td>\n",
       "    </tr>\n",
       "    <tr>\n",
       "      <th>2</th>\n",
       "      <td>Hospital Playlist</td>\n",
       "      <td>Mar 12, 2020 - May 28, 2020</td>\n",
       "      <td>2020</td>\n",
       "      <td>Netflix,  tvN</td>\n",
       "      <td>Thursday</td>\n",
       "      <td>12</td>\n",
       "      <td>1 hr. 30 min.</td>\n",
       "      <td>15+ - Teens 15 or older</td>\n",
       "      <td>9.1</td>\n",
       "      <td>The stories of people going through their days...</td>\n",
       "      <td>Friendship,  Romance,  Life,  Medical</td>\n",
       "      <td>Strong Friendship, Multiple Mains, Best Friend...</td>\n",
       "      <td>Shin Won Ho</td>\n",
       "      <td>Lee Woo Jung</td>\n",
       "      <td>Jo Jung Suk, Yoo Yeon Seok, Jung Kyung Ho, Kim...</td>\n",
       "      <td>Egg Is Coming, CJ ENM</td>\n",
       "      <td>#3</td>\n",
       "    </tr>\n",
       "    <tr>\n",
       "      <th>3</th>\n",
       "      <td>Hospital Playlist 2</td>\n",
       "      <td>Jun 17, 2021 - Sep 16, 2021</td>\n",
       "      <td>2021</td>\n",
       "      <td>Netflix,  tvN</td>\n",
       "      <td>Thursday</td>\n",
       "      <td>12</td>\n",
       "      <td>1 hr. 40 min.</td>\n",
       "      <td>15+ - Teens 15 or older</td>\n",
       "      <td>9.1</td>\n",
       "      <td>Everyday is extraordinary for five doctors and...</td>\n",
       "      <td>Friendship,  Romance,  Life,  Medical</td>\n",
       "      <td>Workplace, Strong Friendship, Best Friends, Mu...</td>\n",
       "      <td>Shin Won Ho</td>\n",
       "      <td>Lee Woo Jung</td>\n",
       "      <td>Jo Jung Suk, Yoo Yeon Seok, Jung Kyung Ho, Kim...</td>\n",
       "      <td>Egg Is Coming, CJ ENM</td>\n",
       "      <td>#4</td>\n",
       "    </tr>\n",
       "    <tr>\n",
       "      <th>4</th>\n",
       "      <td>My Mister</td>\n",
       "      <td>Mar 21, 2018 - May 17, 2018</td>\n",
       "      <td>2018</td>\n",
       "      <td>tvN</td>\n",
       "      <td>Wednesday, Thursday</td>\n",
       "      <td>16</td>\n",
       "      <td>1 hr. 17 min.</td>\n",
       "      <td>15+ - Teens 15 or older</td>\n",
       "      <td>9.1</td>\n",
       "      <td>Park Dong Hoon is a middle-aged engineer who i...</td>\n",
       "      <td>Psychological,  Life,  Drama,  Family</td>\n",
       "      <td>Age Gap, Nice Male Lead, Strong Female Lead, H...</td>\n",
       "      <td>Kim Won Suk, Kim Sang Woo</td>\n",
       "      <td>Park Hae Young</td>\n",
       "      <td>Lee Sun Kyun, IU, Park Ho San, Song Sae Byuk, ...</td>\n",
       "      <td>Chorokbaem Media</td>\n",
       "      <td>#5</td>\n",
       "    </tr>\n",
       "    <tr>\n",
       "      <th>5</th>\n",
       "      <td>Reply 1988</td>\n",
       "      <td>Nov  6, 2015 - Jan 16, 2016</td>\n",
       "      <td>2015</td>\n",
       "      <td>tvN</td>\n",
       "      <td>Friday, Saturday</td>\n",
       "      <td>20</td>\n",
       "      <td>1 hr. 40 min.</td>\n",
       "      <td>15+ - Teens 15 or older</td>\n",
       "      <td>9.1</td>\n",
       "      <td>Five childhood friends, who all live in the sa...</td>\n",
       "      <td>Comedy,  Romance,  Youth,  Family</td>\n",
       "      <td>Neighbors, Slice Of Life, Childhood Friends, M...</td>\n",
       "      <td>Shin Won Ho, Yoo Hak Chan</td>\n",
       "      <td>Lee Woo Jung</td>\n",
       "      <td>Lee Hye Ri, Go Kyung Pyo, Ryu Joon Yeol, Park ...</td>\n",
       "      <td>CJ ENM</td>\n",
       "      <td>#6</td>\n",
       "    </tr>\n",
       "    <tr>\n",
       "      <th>6</th>\n",
       "      <td>Weak Hero Class 1</td>\n",
       "      <td>Nov 18, 2022</td>\n",
       "      <td>2022</td>\n",
       "      <td>Wavve</td>\n",
       "      <td>Friday</td>\n",
       "      <td>8</td>\n",
       "      <td>40 min.</td>\n",
       "      <td>18+ Restricted (violence &amp; profanity)</td>\n",
       "      <td>9.1</td>\n",
       "      <td>Yeon Shi Eun is a model student who ranks at t...</td>\n",
       "      <td>Action, Youth, Drama\\r</td>\n",
       "      <td>Bromance, Smart Male Lead, Violence, School Bu...</td>\n",
       "      <td>You Su Min</td>\n",
       "      <td>Jun Hee Han</td>\n",
       "      <td>Park Ji Hoon, Choi Hyun Wook, Hong Kyung, Kim ...</td>\n",
       "      <td>PlayList Global</td>\n",
       "      <td>#7</td>\n",
       "    </tr>\n",
       "    <tr>\n",
       "      <th>7</th>\n",
       "      <td>Prison Playbook</td>\n",
       "      <td>Nov 22, 2017 - Jan 18, 2018</td>\n",
       "      <td>2017</td>\n",
       "      <td>Netflix,  tvN</td>\n",
       "      <td>Wednesday, Thursday</td>\n",
       "      <td>16</td>\n",
       "      <td>1 hr. 32 min.</td>\n",
       "      <td>15+ - Teens 15 or older</td>\n",
       "      <td>9.1</td>\n",
       "      <td>Kim Je Hyuk, a famous baseball player, is arre...</td>\n",
       "      <td>Comedy,  Crime,  Life,  Drama</td>\n",
       "      <td>Prison, Bromance, Wrongfully Accused, Life Les...</td>\n",
       "      <td>Shin Won Ho</td>\n",
       "      <td>Jung Bo Hoon, Lee Woo Jung</td>\n",
       "      <td>Park Hae Soo, Jung Kyung Ho, Krystal Jung, Im ...</td>\n",
       "      <td>tvN</td>\n",
       "      <td>#8</td>\n",
       "    </tr>\n",
       "    <tr>\n",
       "      <th>8</th>\n",
       "      <td>Alchemy of Souls</td>\n",
       "      <td>Jun 18, 2022 - Aug 28, 2022</td>\n",
       "      <td>2022</td>\n",
       "      <td>Netflix, tvN</td>\n",
       "      <td>Saturday, Sunday</td>\n",
       "      <td>20</td>\n",
       "      <td>1 hr. 20 min.</td>\n",
       "      <td>15+ - Teens 15 or older</td>\n",
       "      <td>9.0</td>\n",
       "      <td>Set in a fictional country called Daeho that d...</td>\n",
       "      <td>Action, Historical, Romance, Fantasy</td>\n",
       "      <td>Magical Power, Supernatural, Transmigration, S...</td>\n",
       "      <td>Park Joon Hwa</td>\n",
       "      <td>Hong Jung Eun, Hong Mi Ran</td>\n",
       "      <td>Lee Jae Wook, Jung So Min, Hwang Hyun Min, Shi...</td>\n",
       "      <td>Studio Dragon, High Quality</td>\n",
       "      <td>#9</td>\n",
       "    </tr>\n",
       "    <tr>\n",
       "      <th>9</th>\n",
       "      <td>Extraordinary Attorney Woo</td>\n",
       "      <td>Jun 29, 2022 - Aug 18, 2022</td>\n",
       "      <td>2022</td>\n",
       "      <td>ENA, Netflix</td>\n",
       "      <td>Wednesday, Thursday</td>\n",
       "      <td>16</td>\n",
       "      <td>1 hr. 17 min.</td>\n",
       "      <td>15+ - Teens 15 or older</td>\n",
       "      <td>9.0</td>\n",
       "      <td>Diagnosed with autism spectrum disorder, 27-ye...</td>\n",
       "      <td>Law, Romance, Life, Drama</td>\n",
       "      <td>Autistic Female Lead, Autism, Attorney Female...</td>\n",
       "      <td>Yoo In Shik</td>\n",
       "      <td>Moon Ji Won</td>\n",
       "      <td>Park Eun Bin, Kang Tae Oh, Kang Ki Young, Jeon...</td>\n",
       "      <td>AStory, KT Studio Genie, Nangman Crew</td>\n",
       "      <td>#10</td>\n",
       "    </tr>\n",
       "  </tbody>\n",
       "</table>\n",
       "</div>"
      ],
      "text/plain": [
       "                         Name                   Aired Date  Year of release  \\\n",
       "0              Move to Heaven                 May 14, 2021             2021   \n",
       "1              Flower of Evil  Jul 29, 2020 - Sep 23, 2020             2020   \n",
       "2           Hospital Playlist  Mar 12, 2020 - May 28, 2020             2020   \n",
       "3         Hospital Playlist 2  Jun 17, 2021 - Sep 16, 2021             2021   \n",
       "4                   My Mister  Mar 21, 2018 - May 17, 2018             2018   \n",
       "5                  Reply 1988  Nov  6, 2015 - Jan 16, 2016             2015   \n",
       "6           Weak Hero Class 1                 Nov 18, 2022             2022   \n",
       "7             Prison Playbook  Nov 22, 2017 - Jan 18, 2018             2017   \n",
       "8            Alchemy of Souls  Jun 18, 2022 - Aug 28, 2022             2022   \n",
       "9  Extraordinary Attorney Woo  Jun 29, 2022 - Aug 18, 2022             2022   \n",
       "\n",
       "  Original Network              Aired On  Number of Episodes       Duration  \\\n",
       "0          Netflix                Friday                  10        52 min.   \n",
       "1              tvN   Wednesday, Thursday                  16  1 hr. 10 min.   \n",
       "2   Netflix,  tvN               Thursday                  12  1 hr. 30 min.   \n",
       "3   Netflix,  tvN               Thursday                  12  1 hr. 40 min.   \n",
       "4              tvN   Wednesday, Thursday                  16  1 hr. 17 min.   \n",
       "5              tvN      Friday, Saturday                  20  1 hr. 40 min.   \n",
       "6            Wavve                Friday                   8        40 min.   \n",
       "7   Netflix,  tvN    Wednesday, Thursday                  16  1 hr. 32 min.   \n",
       "8     Netflix, tvN      Saturday, Sunday                  20  1 hr. 20 min.   \n",
       "9     ENA, Netflix   Wednesday, Thursday                  16  1 hr. 17 min.   \n",
       "\n",
       "                          Content Rating  Rating  \\\n",
       "0  18+ Restricted (violence & profanity)     9.2   \n",
       "1                15+ - Teens 15 or older     9.1   \n",
       "2                15+ - Teens 15 or older     9.1   \n",
       "3                15+ - Teens 15 or older     9.1   \n",
       "4                15+ - Teens 15 or older     9.1   \n",
       "5                15+ - Teens 15 or older     9.1   \n",
       "6  18+ Restricted (violence & profanity)     9.1   \n",
       "7                15+ - Teens 15 or older     9.1   \n",
       "8                15+ - Teens 15 or older     9.0   \n",
       "9                15+ - Teens 15 or older     9.0   \n",
       "\n",
       "                                            Synopsis  \\\n",
       "0  Geu Roo is a young autistic man. He works for ...   \n",
       "1  Although Baek Hee Sung is hiding a dark secret...   \n",
       "2  The stories of people going through their days...   \n",
       "3  Everyday is extraordinary for five doctors and...   \n",
       "4  Park Dong Hoon is a middle-aged engineer who i...   \n",
       "5  Five childhood friends, who all live in the sa...   \n",
       "6  Yeon Shi Eun is a model student who ranks at t...   \n",
       "7  Kim Je Hyuk, a famous baseball player, is arre...   \n",
       "8  Set in a fictional country called Daeho that d...   \n",
       "9  Diagnosed with autism spectrum disorder, 27-ye...   \n",
       "\n",
       "                                     Genre  \\\n",
       "0                   Life,  Drama,  Family    \n",
       "1  Thriller,  Romance,  Crime,  Melodrama    \n",
       "2   Friendship,  Romance,  Life,  Medical    \n",
       "3   Friendship,  Romance,  Life,  Medical    \n",
       "4   Psychological,  Life,  Drama,  Family    \n",
       "5       Comedy,  Romance,  Youth,  Family    \n",
       "6                   Action, Youth, Drama\\r   \n",
       "7           Comedy,  Crime,  Life,  Drama    \n",
       "8    Action, Historical, Romance, Fantasy    \n",
       "9               Law, Romance, Life, Drama    \n",
       "\n",
       "                                                Tags  \\\n",
       "0  Autism, Uncle-Nephew Relationship, Death, Sava...   \n",
       "1  Married Couple, Deception, Suspense, Family Se...   \n",
       "2  Strong Friendship, Multiple Mains, Best Friend...   \n",
       "3  Workplace, Strong Friendship, Best Friends, Mu...   \n",
       "4  Age Gap, Nice Male Lead, Strong Female Lead, H...   \n",
       "5  Neighbors, Slice Of Life, Childhood Friends, M...   \n",
       "6  Bromance, Smart Male Lead, Violence, School Bu...   \n",
       "7  Prison, Bromance, Wrongfully Accused, Life Les...   \n",
       "8  Magical Power, Supernatural, Transmigration, S...   \n",
       "9   Autistic Female Lead, Autism, Attorney Female...   \n",
       "\n",
       "                     Director                Screenwriter  \\\n",
       "0                 Kim Sung Ho                Yoon Ji Ryun   \n",
       "1  Kim Chul Gyu, Yoon Jong Ho                Yoo Jung Hee   \n",
       "2                 Shin Won Ho                Lee Woo Jung   \n",
       "3                 Shin Won Ho                Lee Woo Jung   \n",
       "4   Kim Won Suk, Kim Sang Woo              Park Hae Young   \n",
       "5   Shin Won Ho, Yoo Hak Chan                Lee Woo Jung   \n",
       "6                  You Su Min                 Jun Hee Han   \n",
       "7                 Shin Won Ho  Jung Bo Hoon, Lee Woo Jung   \n",
       "8               Park Joon Hwa  Hong Jung Eun, Hong Mi Ran   \n",
       "9                 Yoo In Shik                 Moon Ji Won   \n",
       "\n",
       "                                                Cast  \\\n",
       "0  Lee Je Hoon, Tang Jun Sang, Hong Seung Hee, Ju...   \n",
       "1  Lee Joon Gi, Moon Chae Won, Jang Hee Jin, Seo ...   \n",
       "2  Jo Jung Suk, Yoo Yeon Seok, Jung Kyung Ho, Kim...   \n",
       "3  Jo Jung Suk, Yoo Yeon Seok, Jung Kyung Ho, Kim...   \n",
       "4  Lee Sun Kyun, IU, Park Ho San, Song Sae Byuk, ...   \n",
       "5  Lee Hye Ri, Go Kyung Pyo, Ryu Joon Yeol, Park ...   \n",
       "6  Park Ji Hoon, Choi Hyun Wook, Hong Kyung, Kim ...   \n",
       "7  Park Hae Soo, Jung Kyung Ho, Krystal Jung, Im ...   \n",
       "8  Lee Jae Wook, Jung So Min, Hwang Hyun Min, Shi...   \n",
       "9  Park Eun Bin, Kang Tae Oh, Kang Ki Young, Jeon...   \n",
       "\n",
       "                    Production companies Rank  \n",
       "0   Page One Film, Number Three Pictures   #1  \n",
       "1                          Monster Union   #2  \n",
       "2                  Egg Is Coming, CJ ENM   #3  \n",
       "3                  Egg Is Coming, CJ ENM   #4  \n",
       "4                       Chorokbaem Media   #5  \n",
       "5                                 CJ ENM   #6  \n",
       "6                        PlayList Global   #7  \n",
       "7                                    tvN   #8  \n",
       "8            Studio Dragon, High Quality   #9  \n",
       "9  AStory, KT Studio Genie, Nangman Crew  #10  "
      ]
     },
     "execution_count": 121,
     "metadata": {},
     "output_type": "execute_result"
    }
   ],
   "source": [
    "kdrama_df.head(10)"
   ]
  },
  {
   "cell_type": "markdown",
   "metadata": {},
   "source": [
    "# Explore and process data"
   ]
  },
  {
   "cell_type": "code",
   "execution_count": 122,
   "metadata": {},
   "outputs": [],
   "source": [
    "# Cleaning data\n",
    "kdrama_df['Rank'] = kdrama_df['Rank'].str.replace('#', '').astype(int)"
   ]
  },
  {
   "cell_type": "code",
   "execution_count": 123,
   "metadata": {},
   "outputs": [
    {
     "data": {
      "text/plain": [
       "Content Rating          5\n",
       "Production companies    2\n",
       "Screenwriter            1\n",
       "Director                1\n",
       "Rank                    0\n",
       "Number of Episodes      0\n",
       "Aired Date              0\n",
       "Year of release         0\n",
       "Original Network        0\n",
       "Aired On                0\n",
       "Rating                  0\n",
       "Duration                0\n",
       "Synopsis                0\n",
       "Genre                   0\n",
       "Tags                    0\n",
       "Cast                    0\n",
       "Name                    0\n",
       "dtype: int64"
      ]
     },
     "execution_count": 123,
     "metadata": {},
     "output_type": "execute_result"
    }
   ],
   "source": [
    "kdrama_df.isnull().sum().sort_values(ascending=False)"
   ]
  },
  {
   "cell_type": "code",
   "execution_count": 124,
   "metadata": {},
   "outputs": [],
   "source": [
    "kdrama_df['Original Network list'] = kdrama_df.apply(lambda x: x['Original Network'].split(','), axis=1)"
   ]
  },
  {
   "cell_type": "code",
   "execution_count": 125,
   "metadata": {},
   "outputs": [
    {
     "name": "stdout",
     "output_type": "stream",
     "text": [
      "['Name', 'Original Network', 'Synopsis', 'Genre', 'Tags', 'Director', 'Cast']\n"
     ]
    }
   ],
   "source": [
    "# selecting only the relevant columns\n",
    "selected_feature = ['Name', 'Original Network', 'Synopsis', 'Genre', 'Tags', 'Director', 'Cast']\n",
    "print(selected_feature)"
   ]
  },
  {
   "cell_type": "code",
   "execution_count": 126,
   "metadata": {},
   "outputs": [],
   "source": [
    "# replacing the null values with empty string\n",
    "for feature in selected_feature:\n",
    "    kdrama_df[feature] = kdrama_df[feature].fillna('')"
   ]
  },
  {
   "cell_type": "code",
   "execution_count": 127,
   "metadata": {},
   "outputs": [],
   "source": [
    "combined_features = kdrama_df['Name'] + ' ' + kdrama_df['Original Network'] + ' ' + kdrama_df['Synopsis'] + ' ' + kdrama_df['Genre'] + ' ' + kdrama_df['Tags'] + ' ' + kdrama_df['Director'] + ' ' + kdrama_df['Cast']\n"
   ]
  },
  {
   "cell_type": "code",
   "execution_count": 128,
   "metadata": {},
   "outputs": [
    {
     "name": "stdout",
     "output_type": "stream",
     "text": [
      "Move to Heaven Netflix Geu Roo is a young autistic man. He works for his father’s business “Move To Heaven.” Their job is to arrange items left by deceased people. One day, Geu Roo's own father dies. Geu Roo is left alone, but his uncle Sang Koo suddenly appears in front of him. Sang Koo is a cold man. He was a martial artist who fought in underground matches. He went to prison because of what happened at his fight. Sang Koo now becomes Geu Roo’s guardian. They run “Move To Heaven” together. Life,  Drama,  Family  Autism, Uncle-Nephew Relationship, Death, Savant Syndrome, Mourning, Tearjerker, Father-Son Relationship, Life Lesson, Ex-convict, Cleaning And Organizing Kim Sung Ho Lee Je Hoon, Tang Jun Sang, Hong Seung Hee, Jung Suk Yong, Jung Young Joo, Lee Moon Shik\n"
     ]
    }
   ],
   "source": [
    "print(combined_features[0])"
   ]
  },
  {
   "cell_type": "markdown",
   "metadata": {},
   "source": [
    "# Create Model"
   ]
  },
  {
   "cell_type": "code",
   "execution_count": 129,
   "metadata": {},
   "outputs": [],
   "source": [
    "# converting text data to feature vectors\n",
    "vectorizer = TfidfVectorizer()"
   ]
  },
  {
   "cell_type": "code",
   "execution_count": 130,
   "metadata": {},
   "outputs": [],
   "source": [
    "feature_vectors = vectorizer.fit_transform(combined_features)"
   ]
  },
  {
   "cell_type": "code",
   "execution_count": 131,
   "metadata": {},
   "outputs": [],
   "source": [
    "# getting the similarity scores\n",
    "similarity = cosine_similarity(feature_vectors)\n"
   ]
  },
  {
   "cell_type": "code",
   "execution_count": 132,
   "metadata": {},
   "outputs": [
    {
     "name": "stdout",
     "output_type": "stream",
     "text": [
      "(250, 250)\n"
     ]
    }
   ],
   "source": [
    "print(similarity.shape)"
   ]
  },
  {
   "cell_type": "code",
   "execution_count": 137,
   "metadata": {},
   "outputs": [
    {
     "name": "stdout",
     "output_type": "stream",
     "text": [
      "Enter the name of the movie you want to search: Memory\n"
     ]
    }
   ],
   "source": [
    "kdrame_name = input(\"Enter the name of the movie you want to search: \")"
   ]
  },
  {
   "cell_type": "code",
   "execution_count": 138,
   "metadata": {},
   "outputs": [],
   "source": [
    "# creating list all the movie names\n",
    "list_all_kdrama = kdrama_df['Name'].tolist()"
   ]
  },
  {
   "cell_type": "code",
   "execution_count": 139,
   "metadata": {},
   "outputs": [
    {
     "name": "stdout",
     "output_type": "stream",
     "text": [
      "['Memory', 'Memorist']\n"
     ]
    }
   ],
   "source": [
    "# finding close matches for kdrama\n",
    "find_close_matches = difflib.get_close_matches(kdrame_name, list_all_kdrama)\n",
    "print(find_close_matches)"
   ]
  },
  {
   "cell_type": "code",
   "execution_count": 140,
   "metadata": {},
   "outputs": [
    {
     "name": "stdout",
     "output_type": "stream",
     "text": [
      "Memory\n"
     ]
    }
   ],
   "source": [
    "close_matches = find_close_matches[0]\n",
    "print(close_matches)"
   ]
  },
  {
   "cell_type": "code",
   "execution_count": 141,
   "metadata": {},
   "outputs": [
    {
     "name": "stdout",
     "output_type": "stream",
     "text": [
      "248\n"
     ]
    }
   ],
   "source": [
    "# finding the index of the movie\n",
    "index_of_kdrama = kdrama_df[kdrama_df['Name'] == close_matches]['Rank'].values[0]\n",
    "print(index_of_kdrama)"
   ]
  },
  {
   "cell_type": "code",
   "execution_count": 142,
   "metadata": {},
   "outputs": [
    {
     "name": "stdout",
     "output_type": "stream",
     "text": [
      "[(0, 0.06088331456439936), (1, 0.1269551868970665), (2, 0.09726172886138762), (3, 0.06870788292192824), (4, 0.09886744421710858), (5, 0.08436141867400179), (6, 0.07365987567312061), (7, 0.07088953793809931), (8, 0.1030279257914197), (9, 0.07443532036534)]\n"
     ]
    }
   ],
   "source": [
    "# getting a list similar movies\n",
    "similarity_score = list(enumerate(similarity[index_of_kdrama]))\n",
    "print(similarity_score[0:10])"
   ]
  },
  {
   "cell_type": "code",
   "execution_count": 143,
   "metadata": {},
   "outputs": [
    {
     "data": {
      "text/plain": [
       "250"
      ]
     },
     "execution_count": 143,
     "metadata": {},
     "output_type": "execute_result"
    }
   ],
   "source": [
    "len(similarity_score)"
   ]
  },
  {
   "cell_type": "code",
   "execution_count": 144,
   "metadata": {},
   "outputs": [
    {
     "name": "stdout",
     "output_type": "stream",
     "text": [
      "[(248, 1.0000000000000002), (217, 0.18254461032781044), (98, 0.17733711756123893), (148, 0.17319857782822612), (204, 0.15493966979457038), (226, 0.14635047143674937), (211, 0.1445960441951953), (113, 0.14417880161501198), (112, 0.14341784840572494), (62, 0.1433990497650344)]\n"
     ]
    }
   ],
   "source": [
    "sorted_similar_movies = sorted(similarity_score, key=lambda x: x[1], reverse=True)\n",
    "print(sorted_similar_movies[0:10])"
   ]
  },
  {
   "cell_type": "code",
   "execution_count": 145,
   "metadata": {},
   "outputs": [
    {
     "name": "stdout",
     "output_type": "stream",
     "text": [
      "KDrama suggested for you : \n",
      "\n",
      "1 . Memory\n",
      "2 . Hyena\n",
      "3 . 365\n",
      "4 . Search: WWW\n",
      "5 . Vampire Prosecutor 2\n",
      "6 . WATCHER\n",
      "7 . Are You Human Too?\n",
      "8 . Hi Bye, Mama!\n",
      "9 . Doctor John\n",
      "10 . My Name\n",
      "11 . Train\n",
      "12 . Tunnel\n",
      "13 . Snowdrop\n",
      "14 . Suspicious Partner\n",
      "15 . Our Beloved Summer\n",
      "16 . True Beauty\n",
      "17 . Birthcare Center\n",
      "18 . Big Mouth\n",
      "19 . I'm Not a Robot\n",
      "20 . Little Women\n"
     ]
    }
   ],
   "source": [
    "# printing the name of similarity movies based on index\n",
    "print(\"KDrama suggested for you : \\n\")\n",
    "\n",
    "i = 1\n",
    "\n",
    "for movie in sorted_similar_movies:\n",
    "    index = movie[0]\n",
    "    title_from_index = kdrama_df[kdrama_df['Rank'] == index]['Name'].values\n",
    "    if len(title_from_index) > 0:\n",
    "        title_from_index = title_from_index[0]\n",
    "        if (i<=20):\n",
    "            print(i, \".\", title_from_index)\n",
    "            i += 1\n",
    "    else:\n",
    "        continue"
   ]
  },
  {
   "cell_type": "markdown",
   "metadata": {},
   "source": [
    "# Movie Recomendation system"
   ]
  },
  {
   "cell_type": "code",
   "execution_count": 154,
   "metadata": {},
   "outputs": [
    {
     "name": "stdout",
     "output_type": "stream",
     "text": [
      "Enter the name of the movie you want to search: Vincenzo\n",
      "KDrama suggested for you : \n",
      "\n",
      "1 . Vincenzo \n",
      "    similarity score :  1.0000000000000002\n",
      "------------------------------------\n",
      "2 . The Guest \n",
      "    similarity score :  0.15220873199827592\n",
      "------------------------------------\n",
      "3 . Chicago Typewriter \n",
      "    similarity score :  0.13771058919683887\n",
      "------------------------------------\n",
      "4 . Five Enough \n",
      "    similarity score :  0.13023725490583019\n",
      "------------------------------------\n",
      "5 . Voice \n",
      "    similarity score :  0.1286642672149119\n",
      "------------------------------------\n",
      "6 . The Tale of Nokdu \n",
      "    similarity score :  0.1268821724400897\n",
      "------------------------------------\n",
      "7 . Big Mouth \n",
      "    similarity score :  0.11994384310879054\n",
      "------------------------------------\n",
      "8 . Mystic Pop-Up Bar \n",
      "    similarity score :  0.11773714517376718\n",
      "------------------------------------\n",
      "9 . He Is Psychometric \n",
      "    similarity score :  0.1166379553595359\n",
      "------------------------------------\n",
      "10 . Awaken \n",
      "    similarity score :  0.11469367238417816\n",
      "------------------------------------\n",
      "11 . Empress Ki \n",
      "    similarity score :  0.11466709406205594\n",
      "------------------------------------\n",
      "12 . The Hymn of Death \n",
      "    similarity score :  0.11453567761648496\n",
      "------------------------------------\n",
      "13 . Queen for Seven Days \n",
      "    similarity score :  0.1138537146716455\n",
      "------------------------------------\n",
      "14 . Pachinko \n",
      "    similarity score :  0.11160532264634798\n",
      "------------------------------------\n",
      "15 . Two Weeks \n",
      "    similarity score :  0.11116805021254986\n",
      "------------------------------------\n",
      "16 . Alchemy of Souls \n",
      "    similarity score :  0.10712953697092993\n",
      "------------------------------------\n",
      "17 . Blind \n",
      "    similarity score :  0.1069354116834795\n",
      "------------------------------------\n",
      "18 . Just Between Lovers \n",
      "    similarity score :  0.10307799274127594\n",
      "------------------------------------\n",
      "19 . Bad Guys \n",
      "    similarity score :  0.10144852663726767\n",
      "------------------------------------\n",
      "20 . It's Okay, That's Friendship \n",
      "    similarity score :  0.10119391409208485\n",
      "------------------------------------\n"
     ]
    }
   ],
   "source": [
    "kdrame_name = input(\"Enter the name of the movie you want to search: \")\n",
    "\n",
    "list_all_kdrama = kdrama_df['Name'].tolist()\n",
    "\n",
    "find_close_matches = difflib.get_close_matches(kdrame_name, list_all_kdrama)\n",
    "\n",
    "close_matches = find_close_matches[0]\n",
    "\n",
    "index_of_kdrama = kdrama_df[kdrama_df['Name'] == close_matches]['Rank'].values[0]\n",
    "\n",
    "similarity_score = list(enumerate(similarity[index_of_kdrama]))\n",
    "\n",
    "sorted_similar_movies = sorted(similarity_score, key=lambda x: x[1], reverse=True)\n",
    "\n",
    "print(\"KDrama suggested for you : \\n\")\n",
    "\n",
    "i = 1\n",
    "\n",
    "for movie in sorted_similar_movies:\n",
    "    index = movie[0]\n",
    "    similarity_score_value = movie[1]\n",
    "    title_from_index = kdrama_df[kdrama_df['Rank'] == index]['Name'].values\n",
    "    if len(title_from_index) > 0:\n",
    "        title_from_index = title_from_index[0]\n",
    "        if (i<=20):\n",
    "            print(i, \".\", title_from_index, '\\n    similarity score : ' ,similarity_score_value)\n",
    "            print(\"------------------------------------\")\n",
    "            i += 1\n",
    "    else:\n",
    "        continue"
   ]
  },
  {
   "cell_type": "markdown",
   "metadata": {},
   "source": [
    "# ---------------------------------------------------------------------------------------------------------------------------------END------------------------------------------------------------------------------------------------------------------------------------------------"
   ]
  },
  {
   "cell_type": "markdown",
   "metadata": {},
   "source": [
    "# Appendix"
   ]
  },
  {
   "cell_type": "code",
   "execution_count": 11,
   "metadata": {},
   "outputs": [],
   "source": [
    "#Remove spaces\n",
    "\n",
    "ntw_ls = []\n",
    "\n",
    "for i in range(len(kdrama_df)):\n",
    "    word = []\n",
    "    for j in kdrama_df['Original Network list'][i]:\n",
    "        k = j.replace(' ','')\n",
    "        word.append(k)\n",
    "    \n",
    "    ntw_ls.append(word)"
   ]
  },
  {
   "cell_type": "code",
   "execution_count": 12,
   "metadata": {},
   "outputs": [],
   "source": [
    "kdrama_df['org_nw_ls'] = ntw_ls"
   ]
  },
  {
   "cell_type": "code",
   "execution_count": 13,
   "metadata": {},
   "outputs": [],
   "source": [
    "org_nw_df = kdrama_df['org_nw_ls'].str.join(sep=',').str.get_dummies(sep=',')"
   ]
  },
  {
   "cell_type": "code",
   "execution_count": 14,
   "metadata": {},
   "outputs": [],
   "source": [
    "kdrama_merge_df = pd.concat([kdrama_df, org_nw_df], axis=1)"
   ]
  },
  {
   "cell_type": "code",
   "execution_count": 15,
   "metadata": {},
   "outputs": [],
   "source": [
    "kdrama_df['Aired On list'] = kdrama_df.apply(lambda x: x['Aired On'].split(','), axis=1)\n",
    "\n",
    "ao_ls = []\n",
    "\n",
    "for i in range(len(kdrama_df)):\n",
    "    day = []\n",
    "    for j in kdrama_df['Aired On list'][i]:\n",
    "        k = j.replace(' ','')\n",
    "        day.append(k)\n",
    "    \n",
    "    ao_ls.append(day)\n",
    "    \n",
    "kdrama_df['ao_ls'] = ao_ls\n",
    "ao_df = kdrama_df['ao_ls'].str.join(sep=',').str.get_dummies(sep=',')\n",
    "kdrama_merge_df2 = pd.concat([kdrama_merge_df, ao_df], axis=1)"
   ]
  },
  {
   "cell_type": "code",
   "execution_count": 16,
   "metadata": {},
   "outputs": [
    {
     "data": {
      "text/html": [
       "<div>\n",
       "<style scoped>\n",
       "    .dataframe tbody tr th:only-of-type {\n",
       "        vertical-align: middle;\n",
       "    }\n",
       "\n",
       "    .dataframe tbody tr th {\n",
       "        vertical-align: top;\n",
       "    }\n",
       "\n",
       "    .dataframe thead th {\n",
       "        text-align: right;\n",
       "    }\n",
       "</style>\n",
       "<table border=\"1\" class=\"dataframe\">\n",
       "  <thead>\n",
       "    <tr style=\"text-align: right;\">\n",
       "      <th></th>\n",
       "      <th>Friday</th>\n",
       "      <th>Monday</th>\n",
       "      <th>Saturday</th>\n",
       "      <th>Sunday</th>\n",
       "      <th>Thursday</th>\n",
       "      <th>Tuesday</th>\n",
       "      <th>Wednesday</th>\n",
       "    </tr>\n",
       "  </thead>\n",
       "  <tbody>\n",
       "    <tr>\n",
       "      <th>0</th>\n",
       "      <td>1</td>\n",
       "      <td>0</td>\n",
       "      <td>0</td>\n",
       "      <td>0</td>\n",
       "      <td>0</td>\n",
       "      <td>0</td>\n",
       "      <td>0</td>\n",
       "    </tr>\n",
       "    <tr>\n",
       "      <th>1</th>\n",
       "      <td>0</td>\n",
       "      <td>0</td>\n",
       "      <td>0</td>\n",
       "      <td>0</td>\n",
       "      <td>1</td>\n",
       "      <td>0</td>\n",
       "      <td>1</td>\n",
       "    </tr>\n",
       "    <tr>\n",
       "      <th>2</th>\n",
       "      <td>0</td>\n",
       "      <td>0</td>\n",
       "      <td>0</td>\n",
       "      <td>0</td>\n",
       "      <td>1</td>\n",
       "      <td>0</td>\n",
       "      <td>0</td>\n",
       "    </tr>\n",
       "    <tr>\n",
       "      <th>3</th>\n",
       "      <td>0</td>\n",
       "      <td>0</td>\n",
       "      <td>0</td>\n",
       "      <td>0</td>\n",
       "      <td>1</td>\n",
       "      <td>0</td>\n",
       "      <td>0</td>\n",
       "    </tr>\n",
       "    <tr>\n",
       "      <th>4</th>\n",
       "      <td>0</td>\n",
       "      <td>0</td>\n",
       "      <td>0</td>\n",
       "      <td>0</td>\n",
       "      <td>1</td>\n",
       "      <td>0</td>\n",
       "      <td>1</td>\n",
       "    </tr>\n",
       "  </tbody>\n",
       "</table>\n",
       "</div>"
      ],
      "text/plain": [
       "   Friday  Monday  Saturday  Sunday  Thursday  Tuesday  Wednesday\n",
       "0       1       0         0       0         0        0          0\n",
       "1       0       0         0       0         1        0          1\n",
       "2       0       0         0       0         1        0          0\n",
       "3       0       0         0       0         1        0          0\n",
       "4       0       0         0       0         1        0          1"
      ]
     },
     "execution_count": 16,
     "metadata": {},
     "output_type": "execute_result"
    }
   ],
   "source": [
    "ao_df.head()"
   ]
  },
  {
   "cell_type": "code",
   "execution_count": 17,
   "metadata": {},
   "outputs": [],
   "source": [
    "kdrama_df['Genre list'] = kdrama_df.apply(lambda x: x['Genre'].split(','), axis=1)\n",
    "\n",
    "gn_ls = []\n",
    "\n",
    "for i in range(len(kdrama_df)):\n",
    "    gn = []\n",
    "    for j in kdrama_df['Genre list'][i]:\n",
    "        k = j.replace(' ','')\n",
    "        gn.append(k)\n",
    "    \n",
    "    gn_ls.append(gn)\n",
    "    \n",
    "kdrama_df['gn_ls'] = gn_ls\n",
    "gn_df = kdrama_df['gn_ls'].str.join(sep=',').str.get_dummies(sep=',')\n",
    "kdrama_merge_df2 = pd.concat([kdrama_merge_df2, gn_df], axis=1)"
   ]
  },
  {
   "cell_type": "code",
   "execution_count": 18,
   "metadata": {},
   "outputs": [
    {
     "data": {
      "text/html": [
       "<div>\n",
       "<style scoped>\n",
       "    .dataframe tbody tr th:only-of-type {\n",
       "        vertical-align: middle;\n",
       "    }\n",
       "\n",
       "    .dataframe tbody tr th {\n",
       "        vertical-align: top;\n",
       "    }\n",
       "\n",
       "    .dataframe thead th {\n",
       "        text-align: right;\n",
       "    }\n",
       "</style>\n",
       "<table border=\"1\" class=\"dataframe\">\n",
       "  <thead>\n",
       "    <tr style=\"text-align: right;\">\n",
       "      <th></th>\n",
       "      <th>Action</th>\n",
       "      <th>Adventure</th>\n",
       "      <th>Business</th>\n",
       "      <th>Comedy</th>\n",
       "      <th>Crime</th>\n",
       "      <th>Drama</th>\n",
       "      <th>Drama\\r</th>\n",
       "      <th>Family</th>\n",
       "      <th>Fantasy</th>\n",
       "      <th>Food</th>\n",
       "      <th>...</th>\n",
       "      <th>Political</th>\n",
       "      <th>Psychological</th>\n",
       "      <th>Romance</th>\n",
       "      <th>School</th>\n",
       "      <th>Sci-Fi</th>\n",
       "      <th>Sitcom</th>\n",
       "      <th>Sports</th>\n",
       "      <th>Supernatural</th>\n",
       "      <th>Thriller</th>\n",
       "      <th>Youth</th>\n",
       "    </tr>\n",
       "  </thead>\n",
       "  <tbody>\n",
       "    <tr>\n",
       "      <th>0</th>\n",
       "      <td>0</td>\n",
       "      <td>0</td>\n",
       "      <td>0</td>\n",
       "      <td>0</td>\n",
       "      <td>0</td>\n",
       "      <td>1</td>\n",
       "      <td>0</td>\n",
       "      <td>1</td>\n",
       "      <td>0</td>\n",
       "      <td>0</td>\n",
       "      <td>...</td>\n",
       "      <td>0</td>\n",
       "      <td>0</td>\n",
       "      <td>0</td>\n",
       "      <td>0</td>\n",
       "      <td>0</td>\n",
       "      <td>0</td>\n",
       "      <td>0</td>\n",
       "      <td>0</td>\n",
       "      <td>0</td>\n",
       "      <td>0</td>\n",
       "    </tr>\n",
       "    <tr>\n",
       "      <th>1</th>\n",
       "      <td>0</td>\n",
       "      <td>0</td>\n",
       "      <td>0</td>\n",
       "      <td>0</td>\n",
       "      <td>1</td>\n",
       "      <td>0</td>\n",
       "      <td>0</td>\n",
       "      <td>0</td>\n",
       "      <td>0</td>\n",
       "      <td>0</td>\n",
       "      <td>...</td>\n",
       "      <td>0</td>\n",
       "      <td>0</td>\n",
       "      <td>1</td>\n",
       "      <td>0</td>\n",
       "      <td>0</td>\n",
       "      <td>0</td>\n",
       "      <td>0</td>\n",
       "      <td>0</td>\n",
       "      <td>1</td>\n",
       "      <td>0</td>\n",
       "    </tr>\n",
       "    <tr>\n",
       "      <th>2</th>\n",
       "      <td>0</td>\n",
       "      <td>0</td>\n",
       "      <td>0</td>\n",
       "      <td>0</td>\n",
       "      <td>0</td>\n",
       "      <td>0</td>\n",
       "      <td>0</td>\n",
       "      <td>0</td>\n",
       "      <td>0</td>\n",
       "      <td>0</td>\n",
       "      <td>...</td>\n",
       "      <td>0</td>\n",
       "      <td>0</td>\n",
       "      <td>1</td>\n",
       "      <td>0</td>\n",
       "      <td>0</td>\n",
       "      <td>0</td>\n",
       "      <td>0</td>\n",
       "      <td>0</td>\n",
       "      <td>0</td>\n",
       "      <td>0</td>\n",
       "    </tr>\n",
       "    <tr>\n",
       "      <th>3</th>\n",
       "      <td>0</td>\n",
       "      <td>0</td>\n",
       "      <td>0</td>\n",
       "      <td>0</td>\n",
       "      <td>0</td>\n",
       "      <td>0</td>\n",
       "      <td>0</td>\n",
       "      <td>0</td>\n",
       "      <td>0</td>\n",
       "      <td>0</td>\n",
       "      <td>...</td>\n",
       "      <td>0</td>\n",
       "      <td>0</td>\n",
       "      <td>1</td>\n",
       "      <td>0</td>\n",
       "      <td>0</td>\n",
       "      <td>0</td>\n",
       "      <td>0</td>\n",
       "      <td>0</td>\n",
       "      <td>0</td>\n",
       "      <td>0</td>\n",
       "    </tr>\n",
       "    <tr>\n",
       "      <th>4</th>\n",
       "      <td>0</td>\n",
       "      <td>0</td>\n",
       "      <td>0</td>\n",
       "      <td>0</td>\n",
       "      <td>0</td>\n",
       "      <td>1</td>\n",
       "      <td>0</td>\n",
       "      <td>1</td>\n",
       "      <td>0</td>\n",
       "      <td>0</td>\n",
       "      <td>...</td>\n",
       "      <td>0</td>\n",
       "      <td>1</td>\n",
       "      <td>0</td>\n",
       "      <td>0</td>\n",
       "      <td>0</td>\n",
       "      <td>0</td>\n",
       "      <td>0</td>\n",
       "      <td>0</td>\n",
       "      <td>0</td>\n",
       "      <td>0</td>\n",
       "    </tr>\n",
       "  </tbody>\n",
       "</table>\n",
       "<p>5 rows × 30 columns</p>\n",
       "</div>"
      ],
      "text/plain": [
       "   Action  Adventure  Business  Comedy  Crime  Drama  Drama\\r  Family  \\\n",
       "0       0          0         0       0      0      1        0       1   \n",
       "1       0          0         0       0      1      0        0       0   \n",
       "2       0          0         0       0      0      0        0       0   \n",
       "3       0          0         0       0      0      0        0       0   \n",
       "4       0          0         0       0      0      1        0       1   \n",
       "\n",
       "   Fantasy  Food  ...  Political  Psychological  Romance  School  Sci-Fi  \\\n",
       "0        0     0  ...          0              0        0       0       0   \n",
       "1        0     0  ...          0              0        1       0       0   \n",
       "2        0     0  ...          0              0        1       0       0   \n",
       "3        0     0  ...          0              0        1       0       0   \n",
       "4        0     0  ...          0              1        0       0       0   \n",
       "\n",
       "   Sitcom  Sports  Supernatural  Thriller  Youth  \n",
       "0       0       0             0         0      0  \n",
       "1       0       0             0         1      0  \n",
       "2       0       0             0         0      0  \n",
       "3       0       0             0         0      0  \n",
       "4       0       0             0         0      0  \n",
       "\n",
       "[5 rows x 30 columns]"
      ]
     },
     "execution_count": 18,
     "metadata": {},
     "output_type": "execute_result"
    }
   ],
   "source": [
    "gn_df.head()"
   ]
  },
  {
   "cell_type": "code",
   "execution_count": 19,
   "metadata": {},
   "outputs": [
    {
     "data": {
      "text/html": [
       "<div>\n",
       "<style scoped>\n",
       "    .dataframe tbody tr th:only-of-type {\n",
       "        vertical-align: middle;\n",
       "    }\n",
       "\n",
       "    .dataframe tbody tr th {\n",
       "        vertical-align: top;\n",
       "    }\n",
       "\n",
       "    .dataframe thead th {\n",
       "        text-align: right;\n",
       "    }\n",
       "</style>\n",
       "<table border=\"1\" class=\"dataframe\">\n",
       "  <thead>\n",
       "    <tr style=\"text-align: right;\">\n",
       "      <th></th>\n",
       "      <th>Action</th>\n",
       "      <th>Adventure</th>\n",
       "      <th>Business</th>\n",
       "      <th>Comedy</th>\n",
       "      <th>Crime</th>\n",
       "      <th>Drama</th>\n",
       "      <th>Drama\\r</th>\n",
       "      <th>Family</th>\n",
       "      <th>Fantasy</th>\n",
       "      <th>Food</th>\n",
       "      <th>...</th>\n",
       "      <th>Political</th>\n",
       "      <th>Psychological</th>\n",
       "      <th>Romance</th>\n",
       "      <th>School</th>\n",
       "      <th>Sci-Fi</th>\n",
       "      <th>Sitcom</th>\n",
       "      <th>Sports</th>\n",
       "      <th>Supernatural</th>\n",
       "      <th>Thriller</th>\n",
       "      <th>Youth</th>\n",
       "    </tr>\n",
       "  </thead>\n",
       "  <tbody>\n",
       "    <tr>\n",
       "      <th>count</th>\n",
       "      <td>250.000000</td>\n",
       "      <td>250.000000</td>\n",
       "      <td>250.000000</td>\n",
       "      <td>250.000000</td>\n",
       "      <td>250.000000</td>\n",
       "      <td>250.000000</td>\n",
       "      <td>250.000000</td>\n",
       "      <td>250.000000</td>\n",
       "      <td>250.000000</td>\n",
       "      <td>250.000000</td>\n",
       "      <td>...</td>\n",
       "      <td>250.000000</td>\n",
       "      <td>250.00000</td>\n",
       "      <td>250.000000</td>\n",
       "      <td>250.000000</td>\n",
       "      <td>250.000000</td>\n",
       "      <td>250.000000</td>\n",
       "      <td>250.000000</td>\n",
       "      <td>250.000000</td>\n",
       "      <td>250.000000</td>\n",
       "      <td>250.000000</td>\n",
       "    </tr>\n",
       "    <tr>\n",
       "      <th>mean</th>\n",
       "      <td>0.180000</td>\n",
       "      <td>0.012000</td>\n",
       "      <td>0.036000</td>\n",
       "      <td>0.352000</td>\n",
       "      <td>0.104000</td>\n",
       "      <td>0.512000</td>\n",
       "      <td>0.004000</td>\n",
       "      <td>0.060000</td>\n",
       "      <td>0.136000</td>\n",
       "      <td>0.008000</td>\n",
       "      <td>...</td>\n",
       "      <td>0.072000</td>\n",
       "      <td>0.07600</td>\n",
       "      <td>0.544000</td>\n",
       "      <td>0.008000</td>\n",
       "      <td>0.044000</td>\n",
       "      <td>0.004000</td>\n",
       "      <td>0.024000</td>\n",
       "      <td>0.096000</td>\n",
       "      <td>0.344000</td>\n",
       "      <td>0.068000</td>\n",
       "    </tr>\n",
       "    <tr>\n",
       "      <th>std</th>\n",
       "      <td>0.384958</td>\n",
       "      <td>0.109104</td>\n",
       "      <td>0.186664</td>\n",
       "      <td>0.478552</td>\n",
       "      <td>0.305873</td>\n",
       "      <td>0.500859</td>\n",
       "      <td>0.063246</td>\n",
       "      <td>0.237963</td>\n",
       "      <td>0.343476</td>\n",
       "      <td>0.089263</td>\n",
       "      <td>...</td>\n",
       "      <td>0.259006</td>\n",
       "      <td>0.26553</td>\n",
       "      <td>0.499059</td>\n",
       "      <td>0.089263</td>\n",
       "      <td>0.205507</td>\n",
       "      <td>0.063246</td>\n",
       "      <td>0.153356</td>\n",
       "      <td>0.295182</td>\n",
       "      <td>0.475994</td>\n",
       "      <td>0.252251</td>\n",
       "    </tr>\n",
       "    <tr>\n",
       "      <th>min</th>\n",
       "      <td>0.000000</td>\n",
       "      <td>0.000000</td>\n",
       "      <td>0.000000</td>\n",
       "      <td>0.000000</td>\n",
       "      <td>0.000000</td>\n",
       "      <td>0.000000</td>\n",
       "      <td>0.000000</td>\n",
       "      <td>0.000000</td>\n",
       "      <td>0.000000</td>\n",
       "      <td>0.000000</td>\n",
       "      <td>...</td>\n",
       "      <td>0.000000</td>\n",
       "      <td>0.00000</td>\n",
       "      <td>0.000000</td>\n",
       "      <td>0.000000</td>\n",
       "      <td>0.000000</td>\n",
       "      <td>0.000000</td>\n",
       "      <td>0.000000</td>\n",
       "      <td>0.000000</td>\n",
       "      <td>0.000000</td>\n",
       "      <td>0.000000</td>\n",
       "    </tr>\n",
       "    <tr>\n",
       "      <th>25%</th>\n",
       "      <td>0.000000</td>\n",
       "      <td>0.000000</td>\n",
       "      <td>0.000000</td>\n",
       "      <td>0.000000</td>\n",
       "      <td>0.000000</td>\n",
       "      <td>0.000000</td>\n",
       "      <td>0.000000</td>\n",
       "      <td>0.000000</td>\n",
       "      <td>0.000000</td>\n",
       "      <td>0.000000</td>\n",
       "      <td>...</td>\n",
       "      <td>0.000000</td>\n",
       "      <td>0.00000</td>\n",
       "      <td>0.000000</td>\n",
       "      <td>0.000000</td>\n",
       "      <td>0.000000</td>\n",
       "      <td>0.000000</td>\n",
       "      <td>0.000000</td>\n",
       "      <td>0.000000</td>\n",
       "      <td>0.000000</td>\n",
       "      <td>0.000000</td>\n",
       "    </tr>\n",
       "    <tr>\n",
       "      <th>50%</th>\n",
       "      <td>0.000000</td>\n",
       "      <td>0.000000</td>\n",
       "      <td>0.000000</td>\n",
       "      <td>0.000000</td>\n",
       "      <td>0.000000</td>\n",
       "      <td>1.000000</td>\n",
       "      <td>0.000000</td>\n",
       "      <td>0.000000</td>\n",
       "      <td>0.000000</td>\n",
       "      <td>0.000000</td>\n",
       "      <td>...</td>\n",
       "      <td>0.000000</td>\n",
       "      <td>0.00000</td>\n",
       "      <td>1.000000</td>\n",
       "      <td>0.000000</td>\n",
       "      <td>0.000000</td>\n",
       "      <td>0.000000</td>\n",
       "      <td>0.000000</td>\n",
       "      <td>0.000000</td>\n",
       "      <td>0.000000</td>\n",
       "      <td>0.000000</td>\n",
       "    </tr>\n",
       "    <tr>\n",
       "      <th>75%</th>\n",
       "      <td>0.000000</td>\n",
       "      <td>0.000000</td>\n",
       "      <td>0.000000</td>\n",
       "      <td>1.000000</td>\n",
       "      <td>0.000000</td>\n",
       "      <td>1.000000</td>\n",
       "      <td>0.000000</td>\n",
       "      <td>0.000000</td>\n",
       "      <td>0.000000</td>\n",
       "      <td>0.000000</td>\n",
       "      <td>...</td>\n",
       "      <td>0.000000</td>\n",
       "      <td>0.00000</td>\n",
       "      <td>1.000000</td>\n",
       "      <td>0.000000</td>\n",
       "      <td>0.000000</td>\n",
       "      <td>0.000000</td>\n",
       "      <td>0.000000</td>\n",
       "      <td>0.000000</td>\n",
       "      <td>1.000000</td>\n",
       "      <td>0.000000</td>\n",
       "    </tr>\n",
       "    <tr>\n",
       "      <th>max</th>\n",
       "      <td>1.000000</td>\n",
       "      <td>1.000000</td>\n",
       "      <td>1.000000</td>\n",
       "      <td>1.000000</td>\n",
       "      <td>1.000000</td>\n",
       "      <td>1.000000</td>\n",
       "      <td>1.000000</td>\n",
       "      <td>1.000000</td>\n",
       "      <td>1.000000</td>\n",
       "      <td>1.000000</td>\n",
       "      <td>...</td>\n",
       "      <td>1.000000</td>\n",
       "      <td>1.00000</td>\n",
       "      <td>1.000000</td>\n",
       "      <td>1.000000</td>\n",
       "      <td>1.000000</td>\n",
       "      <td>1.000000</td>\n",
       "      <td>1.000000</td>\n",
       "      <td>1.000000</td>\n",
       "      <td>1.000000</td>\n",
       "      <td>1.000000</td>\n",
       "    </tr>\n",
       "  </tbody>\n",
       "</table>\n",
       "<p>8 rows × 30 columns</p>\n",
       "</div>"
      ],
      "text/plain": [
       "           Action   Adventure    Business      Comedy       Crime       Drama  \\\n",
       "count  250.000000  250.000000  250.000000  250.000000  250.000000  250.000000   \n",
       "mean     0.180000    0.012000    0.036000    0.352000    0.104000    0.512000   \n",
       "std      0.384958    0.109104    0.186664    0.478552    0.305873    0.500859   \n",
       "min      0.000000    0.000000    0.000000    0.000000    0.000000    0.000000   \n",
       "25%      0.000000    0.000000    0.000000    0.000000    0.000000    0.000000   \n",
       "50%      0.000000    0.000000    0.000000    0.000000    0.000000    1.000000   \n",
       "75%      0.000000    0.000000    0.000000    1.000000    0.000000    1.000000   \n",
       "max      1.000000    1.000000    1.000000    1.000000    1.000000    1.000000   \n",
       "\n",
       "          Drama\\r      Family     Fantasy        Food  ...   Political  \\\n",
       "count  250.000000  250.000000  250.000000  250.000000  ...  250.000000   \n",
       "mean     0.004000    0.060000    0.136000    0.008000  ...    0.072000   \n",
       "std      0.063246    0.237963    0.343476    0.089263  ...    0.259006   \n",
       "min      0.000000    0.000000    0.000000    0.000000  ...    0.000000   \n",
       "25%      0.000000    0.000000    0.000000    0.000000  ...    0.000000   \n",
       "50%      0.000000    0.000000    0.000000    0.000000  ...    0.000000   \n",
       "75%      0.000000    0.000000    0.000000    0.000000  ...    0.000000   \n",
       "max      1.000000    1.000000    1.000000    1.000000  ...    1.000000   \n",
       "\n",
       "       Psychological     Romance      School      Sci-Fi      Sitcom  \\\n",
       "count      250.00000  250.000000  250.000000  250.000000  250.000000   \n",
       "mean         0.07600    0.544000    0.008000    0.044000    0.004000   \n",
       "std          0.26553    0.499059    0.089263    0.205507    0.063246   \n",
       "min          0.00000    0.000000    0.000000    0.000000    0.000000   \n",
       "25%          0.00000    0.000000    0.000000    0.000000    0.000000   \n",
       "50%          0.00000    1.000000    0.000000    0.000000    0.000000   \n",
       "75%          0.00000    1.000000    0.000000    0.000000    0.000000   \n",
       "max          1.00000    1.000000    1.000000    1.000000    1.000000   \n",
       "\n",
       "           Sports  Supernatural    Thriller       Youth  \n",
       "count  250.000000    250.000000  250.000000  250.000000  \n",
       "mean     0.024000      0.096000    0.344000    0.068000  \n",
       "std      0.153356      0.295182    0.475994    0.252251  \n",
       "min      0.000000      0.000000    0.000000    0.000000  \n",
       "25%      0.000000      0.000000    0.000000    0.000000  \n",
       "50%      0.000000      0.000000    0.000000    0.000000  \n",
       "75%      0.000000      0.000000    1.000000    0.000000  \n",
       "max      1.000000      1.000000    1.000000    1.000000  \n",
       "\n",
       "[8 rows x 30 columns]"
      ]
     },
     "execution_count": 19,
     "metadata": {},
     "output_type": "execute_result"
    }
   ],
   "source": [
    "gn_df.describe()"
   ]
  },
  {
   "cell_type": "code",
   "execution_count": 20,
   "metadata": {},
   "outputs": [],
   "source": [
    "kdrama_df['Tags list'] = kdrama_df.apply(lambda x: x['Tags'].split(','), axis=1)\n",
    "\n",
    "tag_ls = []\n",
    "\n",
    "for i in range(len(kdrama_df)):\n",
    "    tag = []\n",
    "    for j in kdrama_df['Tags list'][i]:\n",
    "        k = j.replace(' ','')\n",
    "        tag.append(k)\n",
    "    \n",
    "    tag_ls.append(tag)\n",
    "    \n",
    "kdrama_df['tag_ls'] = tag_ls\n",
    "tag_df = kdrama_df['tag_ls'].str.join(sep=',').str.get_dummies(sep=',')\n",
    "kdrama_merge_df3 = pd.concat([kdrama_merge_df2, tag_df], axis=1)"
   ]
  },
  {
   "cell_type": "code",
   "execution_count": 21,
   "metadata": {},
   "outputs": [
    {
     "data": {
      "text/html": [
       "<div>\n",
       "<style scoped>\n",
       "    .dataframe tbody tr th:only-of-type {\n",
       "        vertical-align: middle;\n",
       "    }\n",
       "\n",
       "    .dataframe tbody tr th {\n",
       "        vertical-align: top;\n",
       "    }\n",
       "\n",
       "    .dataframe thead th {\n",
       "        text-align: right;\n",
       "    }\n",
       "</style>\n",
       "<table border=\"1\" class=\"dataframe\">\n",
       "  <thead>\n",
       "    <tr style=\"text-align: right;\">\n",
       "      <th></th>\n",
       "      <th>1980s</th>\n",
       "      <th>1990s</th>\n",
       "      <th>2000s</th>\n",
       "      <th>Ableism</th>\n",
       "      <th>Abuse</th>\n",
       "      <th>AbuseOfPower</th>\n",
       "      <th>AbusiveParents</th>\n",
       "      <th>Accident</th>\n",
       "      <th>Accountant</th>\n",
       "      <th>Actor</th>\n",
       "      <th>...</th>\n",
       "      <th>WorkplaceAbuse</th>\n",
       "      <th>WorkplacePolitics</th>\n",
       "      <th>WorkplaceRomance</th>\n",
       "      <th>WorkplaceSetting</th>\n",
       "      <th>Writer</th>\n",
       "      <th>WrongfullyAccused</th>\n",
       "      <th>Youth</th>\n",
       "      <th>YuanDynasty</th>\n",
       "      <th>ZombieApocalypse</th>\n",
       "      <th>Zombies</th>\n",
       "    </tr>\n",
       "  </thead>\n",
       "  <tbody>\n",
       "    <tr>\n",
       "      <th>0</th>\n",
       "      <td>0</td>\n",
       "      <td>0</td>\n",
       "      <td>0</td>\n",
       "      <td>0</td>\n",
       "      <td>0</td>\n",
       "      <td>0</td>\n",
       "      <td>0</td>\n",
       "      <td>0</td>\n",
       "      <td>0</td>\n",
       "      <td>0</td>\n",
       "      <td>...</td>\n",
       "      <td>0</td>\n",
       "      <td>0</td>\n",
       "      <td>0</td>\n",
       "      <td>0</td>\n",
       "      <td>0</td>\n",
       "      <td>0</td>\n",
       "      <td>0</td>\n",
       "      <td>0</td>\n",
       "      <td>0</td>\n",
       "      <td>0</td>\n",
       "    </tr>\n",
       "    <tr>\n",
       "      <th>1</th>\n",
       "      <td>0</td>\n",
       "      <td>0</td>\n",
       "      <td>0</td>\n",
       "      <td>0</td>\n",
       "      <td>0</td>\n",
       "      <td>0</td>\n",
       "      <td>0</td>\n",
       "      <td>0</td>\n",
       "      <td>0</td>\n",
       "      <td>0</td>\n",
       "      <td>...</td>\n",
       "      <td>0</td>\n",
       "      <td>0</td>\n",
       "      <td>0</td>\n",
       "      <td>0</td>\n",
       "      <td>0</td>\n",
       "      <td>0</td>\n",
       "      <td>0</td>\n",
       "      <td>0</td>\n",
       "      <td>0</td>\n",
       "      <td>0</td>\n",
       "    </tr>\n",
       "    <tr>\n",
       "      <th>2</th>\n",
       "      <td>0</td>\n",
       "      <td>0</td>\n",
       "      <td>0</td>\n",
       "      <td>0</td>\n",
       "      <td>0</td>\n",
       "      <td>0</td>\n",
       "      <td>0</td>\n",
       "      <td>0</td>\n",
       "      <td>0</td>\n",
       "      <td>0</td>\n",
       "      <td>...</td>\n",
       "      <td>0</td>\n",
       "      <td>0</td>\n",
       "      <td>0</td>\n",
       "      <td>0</td>\n",
       "      <td>0</td>\n",
       "      <td>0</td>\n",
       "      <td>0</td>\n",
       "      <td>0</td>\n",
       "      <td>0</td>\n",
       "      <td>0</td>\n",
       "    </tr>\n",
       "    <tr>\n",
       "      <th>3</th>\n",
       "      <td>0</td>\n",
       "      <td>0</td>\n",
       "      <td>0</td>\n",
       "      <td>0</td>\n",
       "      <td>0</td>\n",
       "      <td>0</td>\n",
       "      <td>0</td>\n",
       "      <td>0</td>\n",
       "      <td>0</td>\n",
       "      <td>0</td>\n",
       "      <td>...</td>\n",
       "      <td>0</td>\n",
       "      <td>0</td>\n",
       "      <td>0</td>\n",
       "      <td>0</td>\n",
       "      <td>0</td>\n",
       "      <td>0</td>\n",
       "      <td>0</td>\n",
       "      <td>0</td>\n",
       "      <td>0</td>\n",
       "      <td>0</td>\n",
       "    </tr>\n",
       "    <tr>\n",
       "      <th>4</th>\n",
       "      <td>0</td>\n",
       "      <td>0</td>\n",
       "      <td>0</td>\n",
       "      <td>0</td>\n",
       "      <td>0</td>\n",
       "      <td>0</td>\n",
       "      <td>0</td>\n",
       "      <td>0</td>\n",
       "      <td>0</td>\n",
       "      <td>0</td>\n",
       "      <td>...</td>\n",
       "      <td>0</td>\n",
       "      <td>0</td>\n",
       "      <td>0</td>\n",
       "      <td>0</td>\n",
       "      <td>0</td>\n",
       "      <td>0</td>\n",
       "      <td>0</td>\n",
       "      <td>0</td>\n",
       "      <td>0</td>\n",
       "      <td>0</td>\n",
       "    </tr>\n",
       "  </tbody>\n",
       "</table>\n",
       "<p>5 rows × 744 columns</p>\n",
       "</div>"
      ],
      "text/plain": [
       "   1980s  1990s  2000s  Ableism  Abuse  AbuseOfPower  AbusiveParents  \\\n",
       "0      0      0      0        0      0             0               0   \n",
       "1      0      0      0        0      0             0               0   \n",
       "2      0      0      0        0      0             0               0   \n",
       "3      0      0      0        0      0             0               0   \n",
       "4      0      0      0        0      0             0               0   \n",
       "\n",
       "   Accident  Accountant  Actor  ...  WorkplaceAbuse  WorkplacePolitics  \\\n",
       "0         0           0      0  ...               0                  0   \n",
       "1         0           0      0  ...               0                  0   \n",
       "2         0           0      0  ...               0                  0   \n",
       "3         0           0      0  ...               0                  0   \n",
       "4         0           0      0  ...               0                  0   \n",
       "\n",
       "   WorkplaceRomance  WorkplaceSetting  Writer  WrongfullyAccused  Youth  \\\n",
       "0                 0                 0       0                  0      0   \n",
       "1                 0                 0       0                  0      0   \n",
       "2                 0                 0       0                  0      0   \n",
       "3                 0                 0       0                  0      0   \n",
       "4                 0                 0       0                  0      0   \n",
       "\n",
       "   YuanDynasty  ZombieApocalypse  Zombies  \n",
       "0            0                 0        0  \n",
       "1            0                 0        0  \n",
       "2            0                 0        0  \n",
       "3            0                 0        0  \n",
       "4            0                 0        0  \n",
       "\n",
       "[5 rows x 744 columns]"
      ]
     },
     "execution_count": 21,
     "metadata": {},
     "output_type": "execute_result"
    }
   ],
   "source": [
    "tag_df.head()"
   ]
  },
  {
   "cell_type": "code",
   "execution_count": 22,
   "metadata": {},
   "outputs": [],
   "source": [
    "kdrama_df['Cast list'] = kdrama_df.apply(lambda x: x['Cast'].split(','), axis=1)\n",
    "\n",
    "cast_ls = []\n",
    "\n",
    "for i in range(len(kdrama_df)):\n",
    "    cast = []\n",
    "    for j in kdrama_df['Cast list'][i]:\n",
    "        k = j.replace(' ','')\n",
    "        cast.append(k)\n",
    "    \n",
    "    cast_ls.append(cast)\n",
    "    \n",
    "kdrama_df['cast_ls'] = cast_ls\n",
    "cast_df = kdrama_df['cast_ls'].str.join(sep=',').str.get_dummies(sep=',')\n",
    "kdrama_merge_df4 = pd.concat([kdrama_merge_df3, cast_df], axis=1)"
   ]
  },
  {
   "cell_type": "code",
   "execution_count": 23,
   "metadata": {},
   "outputs": [
    {
     "data": {
      "text/html": [
       "<div>\n",
       "<style scoped>\n",
       "    .dataframe tbody tr th:only-of-type {\n",
       "        vertical-align: middle;\n",
       "    }\n",
       "\n",
       "    .dataframe tbody tr th {\n",
       "        vertical-align: top;\n",
       "    }\n",
       "\n",
       "    .dataframe thead th {\n",
       "        text-align: right;\n",
       "    }\n",
       "</style>\n",
       "<table border=\"1\" class=\"dataframe\">\n",
       "  <thead>\n",
       "    <tr style=\"text-align: right;\">\n",
       "      <th></th>\n",
       "      <th>AhnBoHyun</th>\n",
       "      <th>AhnDongGoo</th>\n",
       "      <th>AhnEunJin</th>\n",
       "      <th>AhnHyoSeop</th>\n",
       "      <th>AhnJaeHong</th>\n",
       "      <th>AhnJaeHyun</th>\n",
       "      <th>AhnJaeWook</th>\n",
       "      <th>AhnJiHo</th>\n",
       "      <th>AhnKilKang</th>\n",
       "      <th>AhnNaeSang</th>\n",
       "      <th>...</th>\n",
       "      <th>Yoshi</th>\n",
       "      <th>YounYuhJung</th>\n",
       "      <th>YunJiOn</th>\n",
       "      <th>butpretendingtobeJinYoungSeo.Onthefollowingday</th>\n",
       "      <th>butshelearnshehasagirlfriend.ShinHaRifeelssadanddecidestomeetherfriendJinYoungSeo</th>\n",
       "      <th>hisgrandfatherinformedhimofanupcomingblinddatethathesetupforhim.KangTaeMuisaworkaholicandheisannoyedthathisgrandfathersetsupblinddatesforhim.Hedecidestomarrythenextwomanwhomhemeetsatablinddate</th>\n",
       "      <th>sohewon'tbedisturbedfromhisworkanymore.ThatwomanisShinHaRi</th>\n",
       "      <th>whilehavingtheintentiontogetrejectedbyherdate.Whensheseesherblinddate</th>\n",
       "      <th>whoisadaughterofachaebolfamily.JinYoungSeothenasksShinHaRitotakeherplaceinablinddateandevenofferssomemoneyforhertime.ShinHaRiacceptsherfriend'soffer.ShegoesoutontheblinddateasJinYoungSeo</th>\n",
       "      <th>whoshehashadacrushonforalongtime</th>\n",
       "    </tr>\n",
       "  </thead>\n",
       "  <tbody>\n",
       "    <tr>\n",
       "      <th>0</th>\n",
       "      <td>0</td>\n",
       "      <td>0</td>\n",
       "      <td>0</td>\n",
       "      <td>0</td>\n",
       "      <td>0</td>\n",
       "      <td>0</td>\n",
       "      <td>0</td>\n",
       "      <td>0</td>\n",
       "      <td>0</td>\n",
       "      <td>0</td>\n",
       "      <td>...</td>\n",
       "      <td>0</td>\n",
       "      <td>0</td>\n",
       "      <td>0</td>\n",
       "      <td>0</td>\n",
       "      <td>0</td>\n",
       "      <td>0</td>\n",
       "      <td>0</td>\n",
       "      <td>0</td>\n",
       "      <td>0</td>\n",
       "      <td>0</td>\n",
       "    </tr>\n",
       "    <tr>\n",
       "      <th>1</th>\n",
       "      <td>0</td>\n",
       "      <td>0</td>\n",
       "      <td>0</td>\n",
       "      <td>0</td>\n",
       "      <td>0</td>\n",
       "      <td>0</td>\n",
       "      <td>0</td>\n",
       "      <td>0</td>\n",
       "      <td>0</td>\n",
       "      <td>0</td>\n",
       "      <td>...</td>\n",
       "      <td>0</td>\n",
       "      <td>0</td>\n",
       "      <td>0</td>\n",
       "      <td>0</td>\n",
       "      <td>0</td>\n",
       "      <td>0</td>\n",
       "      <td>0</td>\n",
       "      <td>0</td>\n",
       "      <td>0</td>\n",
       "      <td>0</td>\n",
       "    </tr>\n",
       "    <tr>\n",
       "      <th>2</th>\n",
       "      <td>0</td>\n",
       "      <td>0</td>\n",
       "      <td>0</td>\n",
       "      <td>0</td>\n",
       "      <td>0</td>\n",
       "      <td>0</td>\n",
       "      <td>0</td>\n",
       "      <td>0</td>\n",
       "      <td>0</td>\n",
       "      <td>0</td>\n",
       "      <td>...</td>\n",
       "      <td>0</td>\n",
       "      <td>0</td>\n",
       "      <td>0</td>\n",
       "      <td>0</td>\n",
       "      <td>0</td>\n",
       "      <td>0</td>\n",
       "      <td>0</td>\n",
       "      <td>0</td>\n",
       "      <td>0</td>\n",
       "      <td>0</td>\n",
       "    </tr>\n",
       "    <tr>\n",
       "      <th>3</th>\n",
       "      <td>0</td>\n",
       "      <td>0</td>\n",
       "      <td>0</td>\n",
       "      <td>0</td>\n",
       "      <td>0</td>\n",
       "      <td>0</td>\n",
       "      <td>0</td>\n",
       "      <td>0</td>\n",
       "      <td>0</td>\n",
       "      <td>0</td>\n",
       "      <td>...</td>\n",
       "      <td>0</td>\n",
       "      <td>0</td>\n",
       "      <td>0</td>\n",
       "      <td>0</td>\n",
       "      <td>0</td>\n",
       "      <td>0</td>\n",
       "      <td>0</td>\n",
       "      <td>0</td>\n",
       "      <td>0</td>\n",
       "      <td>0</td>\n",
       "    </tr>\n",
       "    <tr>\n",
       "      <th>4</th>\n",
       "      <td>0</td>\n",
       "      <td>0</td>\n",
       "      <td>0</td>\n",
       "      <td>0</td>\n",
       "      <td>0</td>\n",
       "      <td>0</td>\n",
       "      <td>0</td>\n",
       "      <td>0</td>\n",
       "      <td>0</td>\n",
       "      <td>0</td>\n",
       "      <td>...</td>\n",
       "      <td>0</td>\n",
       "      <td>0</td>\n",
       "      <td>0</td>\n",
       "      <td>0</td>\n",
       "      <td>0</td>\n",
       "      <td>0</td>\n",
       "      <td>0</td>\n",
       "      <td>0</td>\n",
       "      <td>0</td>\n",
       "      <td>0</td>\n",
       "    </tr>\n",
       "  </tbody>\n",
       "</table>\n",
       "<p>5 rows × 829 columns</p>\n",
       "</div>"
      ],
      "text/plain": [
       "   AhnBoHyun  AhnDongGoo  AhnEunJin  AhnHyoSeop  AhnJaeHong  AhnJaeHyun  \\\n",
       "0          0           0          0           0           0           0   \n",
       "1          0           0          0           0           0           0   \n",
       "2          0           0          0           0           0           0   \n",
       "3          0           0          0           0           0           0   \n",
       "4          0           0          0           0           0           0   \n",
       "\n",
       "   AhnJaeWook  AhnJiHo  AhnKilKang  AhnNaeSang  ...  Yoshi  YounYuhJung  \\\n",
       "0           0        0           0           0  ...      0            0   \n",
       "1           0        0           0           0  ...      0            0   \n",
       "2           0        0           0           0  ...      0            0   \n",
       "3           0        0           0           0  ...      0            0   \n",
       "4           0        0           0           0  ...      0            0   \n",
       "\n",
       "   YunJiOn  butpretendingtobeJinYoungSeo.Onthefollowingday  \\\n",
       "0        0                                               0   \n",
       "1        0                                               0   \n",
       "2        0                                               0   \n",
       "3        0                                               0   \n",
       "4        0                                               0   \n",
       "\n",
       "   butshelearnshehasagirlfriend.ShinHaRifeelssadanddecidestomeetherfriendJinYoungSeo  \\\n",
       "0                                                  0                                   \n",
       "1                                                  0                                   \n",
       "2                                                  0                                   \n",
       "3                                                  0                                   \n",
       "4                                                  0                                   \n",
       "\n",
       "   hisgrandfatherinformedhimofanupcomingblinddatethathesetupforhim.KangTaeMuisaworkaholicandheisannoyedthathisgrandfathersetsupblinddatesforhim.Hedecidestomarrythenextwomanwhomhemeetsatablinddate  \\\n",
       "0                                                  0                                                                                                                                                  \n",
       "1                                                  0                                                                                                                                                  \n",
       "2                                                  0                                                                                                                                                  \n",
       "3                                                  0                                                                                                                                                  \n",
       "4                                                  0                                                                                                                                                  \n",
       "\n",
       "   sohewon'tbedisturbedfromhisworkanymore.ThatwomanisShinHaRi  \\\n",
       "0                                                  0            \n",
       "1                                                  0            \n",
       "2                                                  0            \n",
       "3                                                  0            \n",
       "4                                                  0            \n",
       "\n",
       "   whilehavingtheintentiontogetrejectedbyherdate.Whensheseesherblinddate  \\\n",
       "0                                                  0                       \n",
       "1                                                  0                       \n",
       "2                                                  0                       \n",
       "3                                                  0                       \n",
       "4                                                  0                       \n",
       "\n",
       "   whoisadaughterofachaebolfamily.JinYoungSeothenasksShinHaRitotakeherplaceinablinddateandevenofferssomemoneyforhertime.ShinHaRiacceptsherfriend'soffer.ShegoesoutontheblinddateasJinYoungSeo  \\\n",
       "0                                                  0                                                                                                                                            \n",
       "1                                                  0                                                                                                                                            \n",
       "2                                                  0                                                                                                                                            \n",
       "3                                                  0                                                                                                                                            \n",
       "4                                                  0                                                                                                                                            \n",
       "\n",
       "   whoshehashadacrushonforalongtime  \n",
       "0                                 0  \n",
       "1                                 0  \n",
       "2                                 0  \n",
       "3                                 0  \n",
       "4                                 0  \n",
       "\n",
       "[5 rows x 829 columns]"
      ]
     },
     "execution_count": 23,
     "metadata": {},
     "output_type": "execute_result"
    }
   ],
   "source": [
    "cast_df.head()"
   ]
  },
  {
   "cell_type": "code",
   "execution_count": 24,
   "metadata": {},
   "outputs": [],
   "source": [
    "kdrama_df['PD list'] = kdrama_df.apply(lambda x: str(x['Production companies']).split(','), axis=1)\n",
    "\n",
    "pd_ls = []\n",
    "\n",
    "for i in range(len(kdrama_df)):\n",
    "    pd = []\n",
    "    for j in kdrama_df['PD list'][i]:\n",
    "        k = j.replace(' ','')\n",
    "        pd.append(k)\n",
    "    \n",
    "    pd_ls.append(pd)\n",
    "    \n",
    "kdrama_df['pd_ls'] = pd_ls\n",
    "pd_df = kdrama_df['pd_ls'].str.join(sep=',').str.get_dummies(sep=',')\n",
    "#kdrama_merge_df5 = pd.concat([kdrama_merge_df4, pd_df], axis=1)"
   ]
  },
  {
   "cell_type": "code",
   "execution_count": 25,
   "metadata": {},
   "outputs": [],
   "source": [
    "#kdrama_merge_df5 = pd.concat([kdrama_merge_df4, pd_df], axis=1)"
   ]
  },
  {
   "cell_type": "code",
   "execution_count": 26,
   "metadata": {},
   "outputs": [
    {
     "data": {
      "text/html": [
       "<div>\n",
       "<style scoped>\n",
       "    .dataframe tbody tr th:only-of-type {\n",
       "        vertical-align: middle;\n",
       "    }\n",
       "\n",
       "    .dataframe tbody tr th {\n",
       "        vertical-align: top;\n",
       "    }\n",
       "\n",
       "    .dataframe thead th {\n",
       "        text-align: right;\n",
       "    }\n",
       "</style>\n",
       "<table border=\"1\" class=\"dataframe\">\n",
       "  <thead>\n",
       "    <tr style=\"text-align: right;\">\n",
       "      <th></th>\n",
       "      <th>3ManaCreative</th>\n",
       "      <th>A&amp;ENetworksKorea</th>\n",
       "      <th>A-ManProject</th>\n",
       "      <th>AHan.BokDreamProduction</th>\n",
       "      <th>ANDuEntertainment</th>\n",
       "      <th>AStory</th>\n",
       "      <th>AceFactory</th>\n",
       "      <th>ApolloPictures</th>\n",
       "      <th>ArcMedia</th>\n",
       "      <th>AteodCo.Ltd.</th>\n",
       "      <th>...</th>\n",
       "      <th>XanaduEntertainment</th>\n",
       "      <th>YGEntertainment</th>\n",
       "      <th>YongFilm</th>\n",
       "      <th>ZIUMContentCo.Ltd.</th>\n",
       "      <th>ZiumContent</th>\n",
       "      <th>doFRAME</th>\n",
       "      <th>iHQ</th>\n",
       "      <th>iWillMedia</th>\n",
       "      <th>nan</th>\n",
       "      <th>tvN</th>\n",
       "    </tr>\n",
       "  </thead>\n",
       "  <tbody>\n",
       "    <tr>\n",
       "      <th>0</th>\n",
       "      <td>0</td>\n",
       "      <td>0</td>\n",
       "      <td>0</td>\n",
       "      <td>0</td>\n",
       "      <td>0</td>\n",
       "      <td>0</td>\n",
       "      <td>0</td>\n",
       "      <td>0</td>\n",
       "      <td>0</td>\n",
       "      <td>0</td>\n",
       "      <td>...</td>\n",
       "      <td>0</td>\n",
       "      <td>0</td>\n",
       "      <td>0</td>\n",
       "      <td>0</td>\n",
       "      <td>0</td>\n",
       "      <td>0</td>\n",
       "      <td>0</td>\n",
       "      <td>0</td>\n",
       "      <td>0</td>\n",
       "      <td>0</td>\n",
       "    </tr>\n",
       "    <tr>\n",
       "      <th>1</th>\n",
       "      <td>0</td>\n",
       "      <td>0</td>\n",
       "      <td>0</td>\n",
       "      <td>0</td>\n",
       "      <td>0</td>\n",
       "      <td>0</td>\n",
       "      <td>0</td>\n",
       "      <td>0</td>\n",
       "      <td>0</td>\n",
       "      <td>0</td>\n",
       "      <td>...</td>\n",
       "      <td>0</td>\n",
       "      <td>0</td>\n",
       "      <td>0</td>\n",
       "      <td>0</td>\n",
       "      <td>0</td>\n",
       "      <td>0</td>\n",
       "      <td>0</td>\n",
       "      <td>0</td>\n",
       "      <td>0</td>\n",
       "      <td>0</td>\n",
       "    </tr>\n",
       "    <tr>\n",
       "      <th>2</th>\n",
       "      <td>0</td>\n",
       "      <td>0</td>\n",
       "      <td>0</td>\n",
       "      <td>0</td>\n",
       "      <td>0</td>\n",
       "      <td>0</td>\n",
       "      <td>0</td>\n",
       "      <td>0</td>\n",
       "      <td>0</td>\n",
       "      <td>0</td>\n",
       "      <td>...</td>\n",
       "      <td>0</td>\n",
       "      <td>0</td>\n",
       "      <td>0</td>\n",
       "      <td>0</td>\n",
       "      <td>0</td>\n",
       "      <td>0</td>\n",
       "      <td>0</td>\n",
       "      <td>0</td>\n",
       "      <td>0</td>\n",
       "      <td>0</td>\n",
       "    </tr>\n",
       "    <tr>\n",
       "      <th>3</th>\n",
       "      <td>0</td>\n",
       "      <td>0</td>\n",
       "      <td>0</td>\n",
       "      <td>0</td>\n",
       "      <td>0</td>\n",
       "      <td>0</td>\n",
       "      <td>0</td>\n",
       "      <td>0</td>\n",
       "      <td>0</td>\n",
       "      <td>0</td>\n",
       "      <td>...</td>\n",
       "      <td>0</td>\n",
       "      <td>0</td>\n",
       "      <td>0</td>\n",
       "      <td>0</td>\n",
       "      <td>0</td>\n",
       "      <td>0</td>\n",
       "      <td>0</td>\n",
       "      <td>0</td>\n",
       "      <td>0</td>\n",
       "      <td>0</td>\n",
       "    </tr>\n",
       "    <tr>\n",
       "      <th>4</th>\n",
       "      <td>0</td>\n",
       "      <td>0</td>\n",
       "      <td>0</td>\n",
       "      <td>0</td>\n",
       "      <td>0</td>\n",
       "      <td>0</td>\n",
       "      <td>0</td>\n",
       "      <td>0</td>\n",
       "      <td>0</td>\n",
       "      <td>0</td>\n",
       "      <td>...</td>\n",
       "      <td>0</td>\n",
       "      <td>0</td>\n",
       "      <td>0</td>\n",
       "      <td>0</td>\n",
       "      <td>0</td>\n",
       "      <td>0</td>\n",
       "      <td>0</td>\n",
       "      <td>0</td>\n",
       "      <td>0</td>\n",
       "      <td>0</td>\n",
       "    </tr>\n",
       "  </tbody>\n",
       "</table>\n",
       "<p>5 rows × 170 columns</p>\n",
       "</div>"
      ],
      "text/plain": [
       "   3ManaCreative  A&ENetworksKorea  A-ManProject  AHan.BokDreamProduction  \\\n",
       "0              0                 0             0                        0   \n",
       "1              0                 0             0                        0   \n",
       "2              0                 0             0                        0   \n",
       "3              0                 0             0                        0   \n",
       "4              0                 0             0                        0   \n",
       "\n",
       "   ANDuEntertainment  AStory  AceFactory  ApolloPictures  ArcMedia  \\\n",
       "0                  0       0           0               0         0   \n",
       "1                  0       0           0               0         0   \n",
       "2                  0       0           0               0         0   \n",
       "3                  0       0           0               0         0   \n",
       "4                  0       0           0               0         0   \n",
       "\n",
       "   AteodCo.Ltd.  ...  XanaduEntertainment  YGEntertainment  YongFilm  \\\n",
       "0             0  ...                    0                0         0   \n",
       "1             0  ...                    0                0         0   \n",
       "2             0  ...                    0                0         0   \n",
       "3             0  ...                    0                0         0   \n",
       "4             0  ...                    0                0         0   \n",
       "\n",
       "   ZIUMContentCo.Ltd.  ZiumContent  doFRAME  iHQ  iWillMedia  nan  tvN  \n",
       "0                   0            0        0    0           0    0    0  \n",
       "1                   0            0        0    0           0    0    0  \n",
       "2                   0            0        0    0           0    0    0  \n",
       "3                   0            0        0    0           0    0    0  \n",
       "4                   0            0        0    0           0    0    0  \n",
       "\n",
       "[5 rows x 170 columns]"
      ]
     },
     "execution_count": 26,
     "metadata": {},
     "output_type": "execute_result"
    }
   ],
   "source": [
    "pd_df.head()"
   ]
  },
  {
   "cell_type": "markdown",
   "metadata": {},
   "source": [
    "# EDA"
   ]
  },
  {
   "cell_type": "code",
   "execution_count": 27,
   "metadata": {},
   "outputs": [],
   "source": [
    "gn_dfm = gn_df.melt()"
   ]
  },
  {
   "cell_type": "code",
   "execution_count": 28,
   "metadata": {},
   "outputs": [],
   "source": [
    "count_gn = gn_dfm.groupby('variable')[['value']].sum().sort_values(by=['value'], ascending=False)\n",
    "count_gn_10 = count_gn.nlargest(10, 'value')"
   ]
  },
  {
   "cell_type": "code",
   "execution_count": 29,
   "metadata": {},
   "outputs": [],
   "source": [
    "ao_dfm = ao_df.melt()\n",
    "count_ao = ao_dfm.groupby('variable')[['value']].sum().sort_values(by=['value'], ascending=False)\n",
    "count_ao_10 = count_ao.nlargest(10, 'value')"
   ]
  },
  {
   "cell_type": "code",
   "execution_count": 30,
   "metadata": {},
   "outputs": [],
   "source": [
    "nw_dfm = org_nw_df.melt()\n",
    "count_nw = nw_dfm.groupby('variable')[['value']].sum().sort_values(by=['value'], ascending=False)\n",
    "count_nw_10 = count_nw.nlargest(10, 'value')"
   ]
  },
  {
   "cell_type": "code",
   "execution_count": 31,
   "metadata": {},
   "outputs": [],
   "source": [
    "tag_dfm = tag_df.melt()\n",
    "count_tag = tag_dfm.groupby('variable')[['value']].sum().sort_values(by=['value'], ascending=False)\n",
    "count_tag_10 = count_tag.nlargest(10, 'value')"
   ]
  },
  {
   "cell_type": "code",
   "execution_count": 32,
   "metadata": {},
   "outputs": [],
   "source": [
    "cast_dfm = cast_df.melt()\n",
    "count_cast = cast_dfm.groupby('variable')[['value']].sum().sort_values(by=['value'], ascending=False)\n",
    "count_cast_10 = count_cast.nlargest(10, 'value')"
   ]
  },
  {
   "cell_type": "code",
   "execution_count": 33,
   "metadata": {},
   "outputs": [
    {
     "name": "stderr",
     "output_type": "stream",
     "text": [
      "/Users/pimawatmingkwan/opt/anaconda3/lib/python3.8/site-packages/matplotlib/backends/backend_agg.py:214: RuntimeWarning: Glyph 13 missing from current font.\n",
      "/Users/pimawatmingkwan/opt/anaconda3/lib/python3.8/site-packages/matplotlib/backends/backend_agg.py:183: RuntimeWarning: Glyph 13 missing from current font.\n"
     ]
    },
    {
     "data": {
      "image/png": "[encoded data removed]",
      "text/plain": [
       "<Figure size 432x288 with 1 Axes>"
      ]
     },
     "metadata": {
      "needs_background": "light"
     },
     "output_type": "display_data"
    }
   ],
   "source": [
    "count_gn.plot.bar()\n",
    "plt.show()"
   ]
  },
  {
   "cell_type": "code",
   "execution_count": 34,
   "metadata": {},
   "outputs": [
    {
     "data": {
      "image/png": "[encoded data removed]",
      "text/plain": [
       "<Figure size 432x288 with 1 Axes>"
      ]
     },
     "metadata": {
      "needs_background": "light"
     },
     "output_type": "display_data"
    }
   ],
   "source": [
    "count_ao.plot.bar()\n",
    "plt.show()"
   ]
  },
  {
   "cell_type": "code",
   "execution_count": 35,
   "metadata": {},
   "outputs": [
    {
     "data": {
      "image/png": "[encoded data removed]",
      "text/plain": [
       "<Figure size 432x288 with 1 Axes>"
      ]
     },
     "metadata": {
      "needs_background": "light"
     },
     "output_type": "display_data"
    }
   ],
   "source": [
    "count_nw.plot.bar()\n",
    "plt.show()"
   ]
  },
  {
   "cell_type": "code",
   "execution_count": 36,
   "metadata": {},
   "outputs": [
    {
     "data": {
      "image/png": "[encoded data removed]",
      "text/plain": [
       "<Figure size 432x288 with 1 Axes>"
      ]
     },
     "metadata": {
      "needs_background": "light"
     },
     "output_type": "display_data"
    }
   ],
   "source": [
    "count_tag_10.plot.bar()\n",
    "plt.show()"
   ]
  },
  {
   "cell_type": "code",
   "execution_count": 37,
   "metadata": {},
   "outputs": [
    {
     "data": {
      "image/png": "[encoded data removed]",
      "text/plain": [
       "<Figure size 432x288 with 1 Axes>"
      ]
     },
     "metadata": {
      "needs_background": "light"
     },
     "output_type": "display_data"
    }
   ],
   "source": [
    "count_cast_10.plot.bar()\n",
    "plt.show()"
   ]
  },
  {
   "cell_type": "code",
   "execution_count": 38,
   "metadata": {},
   "outputs": [
    {
     "data": {
      "image/png": "[encoded data removed]",
      "text/plain": [
       "<Figure size 432x288 with 1 Axes>"
      ]
     },
     "metadata": {
      "needs_background": "light"
     },
     "output_type": "display_data"
    }
   ],
   "source": [
    "# Draw a nested boxplot to show bills by day and time\n",
    "sns.boxplot(x=\"Year of release\", y=\"Rating\",\n",
    "            data=kdrama_merge_df4)\n",
    "sns.despine(offset=10, trim=True)"
   ]
  },
  {
   "cell_type": "code",
   "execution_count": 39,
   "metadata": {},
   "outputs": [
    {
     "data": {
      "text/plain": [
       "[Text(0, 0.5, '')]"
      ]
     },
     "execution_count": 39,
     "metadata": {},
     "output_type": "execute_result"
    },
    {
     "data": {
      "image/png": "[encoded data removed]",
      "text/plain": [
       "<Figure size 432x288 with 1 Axes>"
      ]
     },
     "metadata": {
      "needs_background": "light"
     },
     "output_type": "display_data"
    }
   ],
   "source": [
    "ax = sns.swarmplot(data=kdrama_merge_df4, x=\"Year of release\", y=\"Rating\", hue = \"Saturday\")\n",
    "ax.set(ylabel=\"\")"
   ]
  },
  {
   "cell_type": "code",
   "execution_count": 40,
   "metadata": {},
   "outputs": [
    {
     "data": {
      "text/plain": [
       "[Text(0, 0.5, '')]"
      ]
     },
     "execution_count": 40,
     "metadata": {},
     "output_type": "execute_result"
    },
    {
     "data": {
      "image/png": "[encoded data removed]",
      "text/plain": [
       "<Figure size 432x288 with 1 Axes>"
      ]
     },
     "metadata": {
      "needs_background": "light"
     },
     "output_type": "display_data"
    }
   ],
   "source": [
    "ax = sns.swarmplot(data=kdrama_merge_df4, x=\"Year of release\", y=\"Rating\", hue = \"Content Rating\")\n",
    "ax.set(ylabel=\"\")"
   ]
  },
  {
   "cell_type": "code",
   "execution_count": 41,
   "metadata": {},
   "outputs": [
    {
     "data": {
      "text/plain": [
       "Content Rating\n",
       "18+ Restricted (violence & profanity)    8.670000\n",
       "15+ - Teens 15 or older                  8.531481\n",
       "13+ - Teens 13 or older                  8.400000\n",
       "G - All Ages                             8.300000\n",
       "Name: Rating, dtype: float64"
      ]
     },
     "execution_count": 41,
     "metadata": {},
     "output_type": "execute_result"
    }
   ],
   "source": [
    "ser = kdrama_merge_df4.groupby('Content Rating')['Rating'].mean().sort_values(ascending=False)\n",
    "ser"
   ]
  },
  {
   "cell_type": "code",
   "execution_count": 42,
   "metadata": {},
   "outputs": [
    {
     "data": {
      "text/plain": [
       "Text(0.5, 1.0, '-')"
      ]
     },
     "execution_count": 42,
     "metadata": {},
     "output_type": "execute_result"
    },
    {
     "data": {
      "image/png": "[encoded data removed]",
      "text/plain": [
       "<Figure size 432x288 with 1 Axes>"
      ]
     },
     "metadata": {
      "needs_background": "light"
     },
     "output_type": "display_data"
    }
   ],
   "source": [
    "# Draw a plot bar chart\n",
    "ser.plot.bar()\n",
    "# Set the Bar Plot Labels and Title\n",
    "ser.plot(x=\"Original Network\", y=\"Rating\")\n",
    "plt.xlabel(\"Original Network\",  size = 20)\n",
    "plt.ylabel(\"Rating\", size = 20)\n",
    "plt.ylim(8,9)\n",
    "plt.title(\"-\", size = 25)"
   ]
  },
  {
   "cell_type": "code",
   "execution_count": 43,
   "metadata": {},
   "outputs": [
    {
     "data": {
      "text/plain": [
       "Year of release\n",
       "2021    8.605128\n",
       "2003    8.600000\n",
       "2016    8.600000\n",
       "2020    8.560000\n",
       "2022    8.546875\n",
       "2017    8.544444\n",
       "2018    8.533333\n",
       "2014    8.528571\n",
       "2010    8.500000\n",
       "2009    8.500000\n",
       "2015    8.500000\n",
       "2019    8.478378\n",
       "2013    8.463636\n",
       "2012    8.400000\n",
       "2011    8.375000\n",
       "2007    8.300000\n",
       "2006    8.300000\n",
       "Name: Rating, dtype: float64"
      ]
     },
     "execution_count": 43,
     "metadata": {},
     "output_type": "execute_result"
    }
   ],
   "source": [
    "ser2 = kdrama_merge_df4.groupby('Year of release')['Rating'].mean().sort_values(ascending=False)\n",
    "ser2"
   ]
  },
  {
   "cell_type": "code",
   "execution_count": 44,
   "metadata": {},
   "outputs": [
    {
     "data": {
      "text/plain": [
       "Text(0.5, 1.0, '-')"
      ]
     },
     "execution_count": 44,
     "metadata": {},
     "output_type": "execute_result"
    },
    {
     "data": {
      "image/png": "[encoded data removed]",
      "text/plain": [
       "<Figure size 432x288 with 1 Axes>"
      ]
     },
     "metadata": {
      "needs_background": "light"
     },
     "output_type": "display_data"
    }
   ],
   "source": [
    "# Draw a plot bar chart\n",
    "ser2.plot.bar()\n",
    "# Set the Bar Plot Labels and Title\n",
    "ser2.plot(x=\"Year of release\", y=\"Rating\")\n",
    "plt.xlabel(\"Year of release\",  size = 20)\n",
    "plt.ylabel(\"Rating\", size = 20)\n",
    "plt.ylim(8.2,8.7)\n",
    "plt.title(\"-\", size = 25)"
   ]
  },
  {
   "cell_type": "code",
   "execution_count": null,
   "metadata": {},
   "outputs": [],
   "source": []
  },
  {
   "cell_type": "code",
   "execution_count": null,
   "metadata": {},
   "outputs": [],
   "source": []
  }
 ],
 "metadata": {
  "kernelspec": {
   "display_name": "Python 3",
   "language": "python",
   "name": "python3"
  },
  "language_info": {
   "codemirror_mode": {
    "name": "ipython",
    "version": 3
   },
   "file_extension": ".py",
   "mimetype": "text/x-python",
   "name": "python",
   "nbconvert_exporter": "python",
   "pygments_lexer": "ipython3",
   "version": "3.8.3"
  }
 },
 "nbformat": 4,
 "nbformat_minor": 4
}
